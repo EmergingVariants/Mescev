{
 "cells": [
  {
   "cell_type": "code",
   "execution_count": 1,
   "metadata": {},
   "outputs": [],
   "source": [
    "import matplotlib.pyplot as plt\n",
    "\n",
    "import numpy as np\n",
    "import networkx as nx\n",
    "\n",
    "from scipy import stats\n",
    "import pandas as pd\n",
    "import math"
   ]
  },
  {
   "cell_type": "markdown",
   "metadata": {},
   "source": [
    "# Generation of WAN network edgelist with symmetrized weights\n",
    "\n",
    "\n"
   ]
  },
  {
   "cell_type": "code",
   "execution_count": 2,
   "metadata": {},
   "outputs": [],
   "source": [
    "# Keys for pd dataframe\n",
    "nodes_keys = ['node_id','iata_code','airport_name','iso_a3','lat','lon']\n",
    "links_keys = ['source','target','flights','seats']\n",
    "\n",
    "# PATH where edgelist is stored\n",
    "period = '2020-11'\n",
    "OUT_PATH = \"./wan_graphs/G_WAN_{}.edgelist\".format(period)\n",
    "\n",
    "# WAN dataset\n",
    "WAN = pd.read_csv(\"./wan/wan_nodes.csv\")\n",
    "WAN_edges = pd.read_csv(\"./wan/wan_link_{}.csv\".format(period))"
   ]
  },
  {
   "cell_type": "code",
   "execution_count": 3,
   "metadata": {},
   "outputs": [],
   "source": [
    "# get airports\n",
    "airports = list(set(WAN['iata_code'])) # I refer to the IATA code as lid\n",
    "\n",
    "# Numbers\n",
    "num_airports = len(airports)\n",
    "num_edges = len(list(WAN_edges['source']))"
   ]
  },
  {
   "cell_type": "code",
   "execution_count": 4,
   "metadata": {},
   "outputs": [],
   "source": [
    "# Generate graph\n",
    "G_WAN = nx.Graph()\n",
    "\n",
    "# Nodes\n",
    "for lid in airports:\n",
    "    G_WAN.add_node(lid)\n",
    "    \n",
    "    # add metadata\n",
    "    for key in nodes_keys:\n",
    "        G_WAN.nodes[lid][key] = WAN[WAN['iata_code']==lid][key].values[0]"
   ]
  },
  {
   "cell_type": "code",
   "execution_count": 5,
   "metadata": {},
   "outputs": [],
   "source": [
    "# Add Edges\n",
    "for i in range(num_edges):\n",
    "    \n",
    "    weight = WAN_edges['seats'][i]\n",
    "    source = WAN_edges['source'][i]\n",
    "    dest = WAN_edges['target'][i]\n",
    "    \n",
    "    source_lid =  WAN[WAN['node_id'] == source]['iata_code'].values[0]\n",
    "    dest_lid =  WAN[WAN['node_id'] == dest]['iata_code'].values[0]\n",
    "    \n",
    "    if G_WAN.has_edge(source_lid, dest_lid):\n",
    "        # Symmetrize weights\n",
    "        new_weight = (weight + G_WAN[source_lid][dest_lid]['weight'])/2.0\n",
    "        G_WAN.add_edge(dest_lid, source_lid, weight=new_weight)\n",
    "        \n",
    "    else:\n",
    "        G_WAN.add_edge(dest_lid, source_lid, weight = weight) # refer to seats as weight"
   ]
  },
  {
   "cell_type": "code",
   "execution_count": 6,
   "metadata": {},
   "outputs": [],
   "source": [
    "# Save the graph\n",
    "if 1:\n",
    "    # Save the edgelist where nodes are references using LIDs\n",
    "    nx.write_edgelist(G_WAN, OUT_PATH)"
   ]
  }
 ],
 "metadata": {
  "kernelspec": {
   "display_name": "Python 3 (ipykernel)",
   "language": "python",
   "name": "python3"
  },
  "language_info": {
   "codemirror_mode": {
    "name": "ipython",
    "version": 3
   },
   "file_extension": ".py",
   "mimetype": "text/x-python",
   "name": "python",
   "nbconvert_exporter": "python",
   "pygments_lexer": "ipython3",
   "version": "3.9.9"
  }
 },
 "nbformat": 4,
 "nbformat_minor": 2
}
